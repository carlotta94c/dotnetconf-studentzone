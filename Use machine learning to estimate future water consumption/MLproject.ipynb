{
 "cells": [
  {
   "cell_type": "code",
   "execution_count": 1,
   "id": "58f9b11d",
   "metadata": {
    "dotnet_interactive": {
     "language": "csharp"
    },
    "vscode": {
     "languageId": "dotnet-interactive.csharp"
    }
   },
   "outputs": [],
   "source": [
    "//#!value --name datasource --from-file \"./waterConsumptionDataset.csv\""
   ]
  },
  {
   "cell_type": "code",
   "execution_count": 2,
   "id": "768a459b",
   "metadata": {
    "vscode": {
     "languageId": "dotnet-interactive.csharp"
    }
   },
   "outputs": [],
   "source": [
    "//#!share --from value datasource\n",
    "//datasource"
   ]
  },
  {
   "cell_type": "code",
   "execution_count": 3,
   "id": "8f154a96",
   "metadata": {
    "vscode": {
     "languageId": "dotnet-interactive.csharp"
    }
   },
   "outputs": [
    {
     "data": {
      "text/html": [
       "<div><div></div><div></div><div><strong>Installed Packages</strong><ul><li><span>Microsoft.Data.Analysis, 0.19.1</span></li></ul></div></div>"
      ]
     },
     "metadata": {},
     "output_type": "display_data"
    },
    {
     "data": {
      "text/markdown": [
       "Loading extensions from `Microsoft.Data.Analysis.Interactive.dll`"
      ]
     },
     "metadata": {},
     "output_type": "display_data"
    }
   ],
   "source": [
    "#r \"nuget: Microsoft.Data.Analysis\"\n",
    "using Microsoft.Data.Analysis;\n",
    "//var dataframe = DataFrame.LoadCsvFromString(datasource);"
   ]
  },
  {
   "cell_type": "code",
   "execution_count": 4,
   "id": "f89d7f2f",
   "metadata": {
    "vscode": {
     "languageId": "dotnet-interactive.csharp"
    }
   },
   "outputs": [
    {
     "data": {
      "text/html": [
       "<table><thead><tr><th><i>index</i></th><th>value</th></tr></thead><tbody><tr><td>0</td><td>2022-10-14-02-47-39-489-empty-no-movement.txt</td></tr><tr><td>1</td><td>2022-10-14-02-48-13-077-empty-lift-put-back-no-drinking.txt</td></tr><tr><td>2</td><td>2022-10-14-02-48-35-890-empty-lift-put-back-no-drinking.txt</td></tr><tr><td>3</td><td>2022-10-14-02-49-00-368-empty-lift-put-back-no-drinking.txt</td></tr><tr><td>4</td><td>2022-10-14-02-49-28-861-empty-lift-put-back-no-drinking.txt</td></tr><tr><td>5</td><td>2022-10-14-02-50-25-069-empty-no-movement.txt</td></tr><tr><td>6</td><td>2022-10-14-02-50-38-604-empty-lift-put-back-no-drinking.txt</td></tr><tr><td>7</td><td>2022-10-14-02-51-16-876-filling-from-empty-while-on-weight.txt</td></tr><tr><td>8</td><td>2022-10-14-02-52-07-118-adding-water-while-on-weight.txt</td></tr><tr><td>9</td><td>2022-10-14-02-52-29-994-adding-water-while-on-weight.txt</td></tr><tr><td>10</td><td>2022-10-14-02-52-52-131-drinking.txt</td></tr><tr><td>11</td><td>2022-10-14-02-53-12-731-drinking.txt</td></tr><tr><td>12</td><td>2022-10-14-02-53-30-752-lift-and-put-back-no-drinking.txt</td></tr><tr><td>13</td><td>2022-10-14-02-54-00-375-drinking.txt</td></tr><tr><td>14</td><td>2022-10-14-02-54-21-284-drinking.txt</td></tr><tr><td>15</td><td>2022-10-14-02-54-35-023-drinking-till-empty.txt</td></tr><tr><td>16</td><td>2022-10-14-02-54-51-514-move-glass-no-drinking.txt</td></tr><tr><td>17</td><td>2022-10-14-02-55-17-805-filling-from-empty-while-on-weight.txt</td></tr><tr><td>18</td><td>2022-10-14-02-55-58-115-drinking.txt</td></tr><tr><td>19</td><td>2022-10-14-02-56-25-988-drinking.txt</td></tr><tr><td colspan=\"2\"><i>(4 more)</i></td></tr></tbody></table>"
      ]
     },
     "metadata": {},
     "output_type": "display_data"
    }
   ],
   "source": [
    "using System.IO;\n",
    "\n",
    "//Extracting file names of all the samples files\n",
    "string directoryPath = \"./samples\";\n",
    "DirectoryInfo d = new DirectoryInfo(directoryPath);\n",
    "string[] files = d.GetFiles(\"*.txt\").Select(f => f.Name).ToArray<string>();\n",
    "files"
   ]
  },
  {
   "cell_type": "code",
   "execution_count": 5,
   "id": "811db258",
   "metadata": {
    "vscode": {
     "languageId": "dotnet-interactive.csharp"
    }
   },
   "outputs": [],
   "source": [
    "//defining row object\n",
    "public record sourceDataRow(int ActionId, DateTime Time, double Weight, double AccX, double AccY, double AccZ){};\n",
    "\n",
    "//converting timestamp format\n",
    "DateTime CreateFromDateAndSpan(object date, object span)\n",
    "{\n",
    "    var adjustedSpan = span.ToString().Split(\":\").Select(e => int.Parse(e)).ToArray();\n",
    "    \n",
    "    return DateTime.Parse(date.ToString()).Add(new TimeSpan(0,adjustedSpan[0], adjustedSpan[1], adjustedSpan[2],adjustedSpan[3]));\n",
    "}\n",
    "\n",
    "//reading data from files \n",
    "IEnumerable<sourceDataRow> ScanDataSetsFromFiles(string directoryPath, params string[] files){\n",
    "    int actionId = 0;\n",
    "    foreach(var data in files){\n",
    "        var source = DataFrame.LoadCsv(directoryPath + \"/\" + data);\n",
    "        actionId += 1;\n",
    "        foreach(var row in source.Rows){\n",
    "            var time = CreateFromDateAndSpan(row[0],row[1]);\n",
    "            var weight = Convert.ToDouble( row[2] );\n",
    "            var accX = Convert.ToDouble( row[3] );\n",
    "            var accY = Convert.ToDouble( row[4] );\n",
    "            var accZ = Convert.ToDouble( row[5] );\n",
    "            yield return new sourceDataRow(actionId, time, weight, accX, accY, accZ);\n",
    "        }\n",
    "    }\n",
    "}"
   ]
  },
  {
   "cell_type": "code",
   "execution_count": 6,
   "id": "57dac679",
   "metadata": {
    "vscode": {
     "languageId": "dotnet-interactive.csharp"
    }
   },
   "outputs": [],
   "source": [
    "//defining destination dataframe format\n",
    "var destination = new DataFrame();\n",
    "var actionId = new PrimitiveDataFrameColumn<int>(\"ActionId\");\n",
    "var time = new PrimitiveDataFrameColumn<DateTime>(\"Time\");\n",
    "var windowDuration = new PrimitiveDataFrameColumn<TimeSpan>(\"WindowDuration\");\n",
    "var weight = new PrimitiveDataFrameColumn<double>(\"Weight\");\n",
    "var accX = new PrimitiveDataFrameColumn<double>(\"AccX\");\n",
    "var accY = new PrimitiveDataFrameColumn<double>(\"AccY\");\n",
    "var accZ = new PrimitiveDataFrameColumn<double>(\"AccZ\");\n",
    "\n",
    "destination.Columns.Add(actionId); //id of the action\n",
    "destination.Columns.Add(time); //action time window start\n",
    "destination.Columns.Add(windowDuration); //action time window duration\n",
    "destination.Columns.Add(weight); //weight delta\n",
    "destination.Columns.Add(accX); //avg accX\n",
    "destination.Columns.Add(accY); //avg accY\n",
    "destination.Columns.Add(accZ); //avg accZ"
   ]
  },
  {
   "cell_type": "code",
   "execution_count": 7,
   "id": "bbe3576f",
   "metadata": {
    "vscode": {
     "languageId": "dotnet-interactive.csharp"
    }
   },
   "outputs": [
    {
     "data": {
      "text/html": [
       "<table id=\"table_638016275877140603\"><thead><tr><th><i>index</i></th><th>ActionId</th><th>Time</th><th>WindowDuration</th><th>Weight</th><th>AccX</th><th>AccY</th><th>AccZ</th></tr></thead><tbody><tr><td><i><div class=\"dni-plaintext\">0</div></i></td><td><div class=\"dni-plaintext\">1</div></td><td><span>2022-10-14 02:47:36Z</span></td><td><span>00:00:03.1220000</span></td><td><div class=\"dni-plaintext\">-0.20000000298023224</div></td><td><div class=\"dni-plaintext\">-0.0441176477162277</div></td><td><div class=\"dni-plaintext\">0</div></td><td><div class=\"dni-plaintext\">1</div></td></tr><tr><td><i><div class=\"dni-plaintext\">1</div></i></td><td><div class=\"dni-plaintext\">2</div></td><td><span>2022-10-14 02:48:06Z</span></td><td><span>00:00:06.6790000</span></td><td><div class=\"dni-plaintext\">-0.7999999970197678</div></td><td><div class=\"dni-plaintext\">-0.008333333043588532</div></td><td><div class=\"dni-plaintext\">-0.07361111189756128</div></td><td><div class=\"dni-plaintext\">0.9833333326710595</div></td></tr><tr><td><i><div class=\"dni-plaintext\">2</div></i></td><td><div class=\"dni-plaintext\">3</div></td><td><span>2022-10-14 02:48:30Z</span></td><td><span>00:00:05.0860000</span></td><td><div class=\"dni-plaintext\">-0.6000000238418579</div></td><td><div class=\"dni-plaintext\">-0.0036363634196194734</div></td><td><div class=\"dni-plaintext\">-0.04000000086697665</div></td><td><div class=\"dni-plaintext\">0.9909090898253701</div></td></tr><tr><td><i><div class=\"dni-plaintext\">3</div></i></td><td><div class=\"dni-plaintext\">4</div></td><td><span>2022-10-14 02:48:52Z</span></td><td><span>00:00:07.8860000</span></td><td><div class=\"dni-plaintext\">0.6000000238418579</div></td><td><div class=\"dni-plaintext\">0.05294117725947324</div></td><td><div class=\"dni-plaintext\">-0.11882352864041049</div></td><td><div class=\"dni-plaintext\">0.90117647227119</div></td></tr><tr><td><i><div class=\"dni-plaintext\">4</div></i></td><td><div class=\"dni-plaintext\">5</div></td><td><span>2022-10-14 02:49:17Z</span></td><td><span>00:00:11.6280000</span></td><td><div class=\"dni-plaintext\">-0.20000001788139343</div></td><td><div class=\"dni-plaintext\">0.029600001037120818</div></td><td><div class=\"dni-plaintext\">-0.10080000025033951</div></td><td><div class=\"dni-plaintext\">0.9343999986648559</div></td></tr><tr><td><i><div class=\"dni-plaintext\">5</div></i></td><td><div class=\"dni-plaintext\">6</div></td><td><span>2022-10-14 02:50:20Z</span></td><td><span>00:00:04.4280000</span></td><td><div class=\"dni-plaintext\">-0.699999988079071</div></td><td><div class=\"dni-plaintext\">-0.0437500006519258</div></td><td><div class=\"dni-plaintext\">0</div></td><td><div class=\"dni-plaintext\">1</div></td></tr><tr><td><i><div class=\"dni-plaintext\">6</div></i></td><td><div class=\"dni-plaintext\">7</div></td><td><span>2022-10-14 02:50:34Z</span></td><td><span>00:00:03.9090000</span></td><td><div class=\"dni-plaintext\">-0.5</div></td><td><div class=\"dni-plaintext\">-0.07380952508676619</div></td><td><div class=\"dni-plaintext\">-0.014285714498588018</div></td><td><div class=\"dni-plaintext\">1</div></td></tr><tr><td><i><div class=\"dni-plaintext\">7</div></i></td><td><div class=\"dni-plaintext\">8</div></td><td><span>2022-10-14 02:51:05Z</span></td><td><span>00:00:11.1590000</span></td><td><div class=\"dni-plaintext\">147.70000612735748</div></td><td><div class=\"dni-plaintext\">-0.08083333453784386</div></td><td><div class=\"dni-plaintext\">0</div></td><td><div class=\"dni-plaintext\">1.0008333335320154</div></td></tr><tr><td><i><div class=\"dni-plaintext\">8</div></i></td><td><div class=\"dni-plaintext\">9</div></td><td><span>2022-10-14 02:51:56Z</span></td><td><span>00:00:10.5980000</span></td><td><div class=\"dni-plaintext\">77.39999389648438</div></td><td><div class=\"dni-plaintext\">-0.09736842250353411</div></td><td><div class=\"dni-plaintext\">0</div></td><td><div class=\"dni-plaintext\">1</div></td></tr><tr><td><i><div class=\"dni-plaintext\">9</div></i></td><td><div class=\"dni-plaintext\">10</div></td><td><span>2022-10-14 02:52:21Z</span></td><td><span>00:00:07.9040000</span></td><td><div class=\"dni-plaintext\">70.79998779296875</div></td><td><div class=\"dni-plaintext\">-0.09529411906705183</div></td><td><div class=\"dni-plaintext\">0</div></td><td><div class=\"dni-plaintext\">1</div></td></tr><tr><td><i><div class=\"dni-plaintext\">10</div></i></td><td><div class=\"dni-plaintext\">11</div></td><td><span>2022-10-14 02:52:44Z</span></td><td><span>00:00:07.7500000</span></td><td><div class=\"dni-plaintext\">-68.5</div></td><td><div class=\"dni-plaintext\">0.17710843448897443</div></td><td><div class=\"dni-plaintext\">-0.09397590618176632</div></td><td><div class=\"dni-plaintext\">0.9036144578313253</div></td></tr><tr><td><i><div class=\"dni-plaintext\">11</div></i></td><td><div class=\"dni-plaintext\">12</div></td><td><span>2022-10-14 02:53:04Z</span></td><td><span>00:00:08.0970000</span></td><td><div class=\"dni-plaintext\">-59.80000305175781</div></td><td><div class=\"dni-plaintext\">0.1666666665810278</div></td><td><div class=\"dni-plaintext\">-0.052873564006268296</div></td><td><div class=\"dni-plaintext\">0.9137931024206096</div></td></tr><tr><td><i><div class=\"dni-plaintext\">12</div></i></td><td><div class=\"dni-plaintext\">13</div></td><td><span>2022-10-14 02:53:24Z</span></td><td><span>00:00:05.7580000</span></td><td><div class=\"dni-plaintext\">0.6999969482421875</div></td><td><div class=\"dni-plaintext\">-0.01774193574824641</div></td><td><div class=\"dni-plaintext\">-0.01612903261857648</div></td><td><div class=\"dni-plaintext\">0.9951612872462119</div></td></tr><tr><td><i><div class=\"dni-plaintext\">13</div></i></td><td><div class=\"dni-plaintext\">14</div></td><td><span>2022-10-14 02:53:54Z</span></td><td><span>00:00:05.9560000</span></td><td><div class=\"dni-plaintext\">-32</div></td><td><div class=\"dni-plaintext\">0.23749999841675162</div></td><td><div class=\"dni-plaintext\">0.06875000160653144</div></td><td><div class=\"dni-plaintext\">0.8703125030733645</div></td></tr><tr><td><i><div class=\"dni-plaintext\">14</div></i></td><td><div class=\"dni-plaintext\">15</div></td><td><span>2022-10-14 02:54:15Z</span></td><td><span>00:00:05.2770000</span></td><td><div class=\"dni-plaintext\">-40.900001525878906</div></td><td><div class=\"dni-plaintext\">0.28596491092129755</div></td><td><div class=\"dni-plaintext\">-0.0280701758568747</div></td><td><div class=\"dni-plaintext\">0.8508771940281517</div></td></tr><tr><td><i><div class=\"dni-plaintext\">15</div></i></td><td><div class=\"dni-plaintext\">16</div></td><td><span>2022-10-14 02:54:28Z</span></td><td><span>00:00:06.7690000</span></td><td><div class=\"dni-plaintext\">-98.6000030040741</div></td><td><div class=\"dni-plaintext\">0.40273972539460823</div></td><td><div class=\"dni-plaintext\">-0.023287671579890055</div></td><td><div class=\"dni-plaintext\">0.6520547976028429</div></td></tr><tr><td><i><div class=\"dni-plaintext\">16</div></i></td><td><div class=\"dni-plaintext\">17</div></td><td><span>2022-10-14 02:54:47Z</span></td><td><span>00:00:04.3750000</span></td><td><div class=\"dni-plaintext\">-0.40000003576278687</div></td><td><div class=\"dni-plaintext\">-0.04680851133579903</div></td><td><div class=\"dni-plaintext\">0.0021276596061726833</div></td><td><div class=\"dni-plaintext\">1</div></td></tr><tr><td><i><div class=\"dni-plaintext\">17</div></i></td><td><div class=\"dni-plaintext\">18</div></td><td><span>2022-10-14 02:55:09Z</span></td><td><span>00:00:08.4530000</span></td><td><div class=\"dni-plaintext\">167.39999693632126</div></td><td><div class=\"dni-plaintext\">-0.012087912268036015</div></td><td><div class=\"dni-plaintext\">0.0010989011152760014</div></td><td><div class=\"dni-plaintext\">0.997802197278201</div></td></tr><tr><td><i><div class=\"dni-plaintext\">18</div></i></td><td><div class=\"dni-plaintext\">19</div></td><td><span>2022-10-14 02:55:52Z</span></td><td><span>00:00:05.5760000</span></td><td><div class=\"dni-plaintext\">-23.900009155273438</div></td><td><div class=\"dni-plaintext\">0.22833333214124044</div></td><td><div class=\"dni-plaintext\">-0.04666666736205419</div></td><td><div class=\"dni-plaintext\">0.8766666680574418</div></td></tr><tr><td><i><div class=\"dni-plaintext\">19</div></i></td><td><div class=\"dni-plaintext\">20</div></td><td><span>2022-10-14 02:56:18Z</span></td><td><span>00:00:07.3300000</span></td><td><div class=\"dni-plaintext\">-56.599998474121094</div></td><td><div class=\"dni-plaintext\">0.32278480965502654</div></td><td><div class=\"dni-plaintext\">-0.0037974685053282146</div></td><td><div class=\"dni-plaintext\">0.829113923484766</div></td></tr><tr><td><i><div class=\"dni-plaintext\">20</div></i></td><td><div class=\"dni-plaintext\">21</div></td><td><span>2022-10-14 02:57:15Z</span></td><td><span>00:00:15.6460000</span></td><td><div class=\"dni-plaintext\">-87.89999695122242</div></td><td><div class=\"dni-plaintext\">0.4017857122900231</div></td><td><div class=\"dni-plaintext\">-0.23392857345087187</div></td><td><div class=\"dni-plaintext\">0.689285717727173</div></td></tr><tr><td><i><div class=\"dni-plaintext\">21</div></i></td><td><div class=\"dni-plaintext\">22</div></td><td><span>2022-10-14 02:58:20Z</span></td><td><span>00:00:12.2070000</span></td><td><div class=\"dni-plaintext\">214.79999999701977</div></td><td><div class=\"dni-plaintext\">-0.0954198487501108</div></td><td><div class=\"dni-plaintext\">0</div></td><td><div class=\"dni-plaintext\">0.9992366414943724</div></td></tr><tr><td><i><div class=\"dni-plaintext\">22</div></i></td><td><div class=\"dni-plaintext\">23</div></td><td><span>2022-10-14 02:59:19Z</span></td><td><span>00:00:08.0860000</span></td><td><div class=\"dni-plaintext\">-30.399993896484375</div></td><td><div class=\"dni-plaintext\">0.32528735500300066</div></td><td><div class=\"dni-plaintext\">-0.04942528809281601</div></td><td><div class=\"dni-plaintext\">0.8517241378625234</div></td></tr><tr><td><i><div class=\"dni-plaintext\">23</div></i></td><td><div class=\"dni-plaintext\">24</div></td><td><span>2022-10-14 03:00:09Z</span></td><td><span>00:00:10.7380000</span></td><td><div class=\"dni-plaintext\">127.60000610351562</div></td><td><div class=\"dni-plaintext\">0.08086956791255785</div></td><td><div class=\"dni-plaintext\">0.0704347836582557</div></td><td><div class=\"dni-plaintext\">0.9782608643822048</div></td></tr></tbody></table>"
      ]
     },
     "metadata": {},
     "output_type": "display_data"
    }
   ],
   "source": [
    "//creating destination dataset by calculating aggregation for weight and acceleration measures \n",
    "var window = new List<sourceDataRow>();\n",
    "var currentAction = 1;\n",
    "var timeWindow = new DateTime();\n",
    "\n",
    "foreach (var row in ScanDataSetsFromFiles(directoryPath, files))\n",
    "{    \n",
    "    if (row.ActionId > currentAction)\n",
    "    {\n",
    "        destination.Append(new object[]{currentAction, window.First().Time,  window.Last().Time - window.First().Time, window.Last().Weight - window.First().Weight,  window.Select(w => w.AccX).Average(), window.Select(w => w.AccY).Average(), window.Select(w => w.AccZ).Average()}, true);\n",
    "        currentAction = row.ActionId;\n",
    "        window = new List<sourceDataRow>(){ row };\n",
    "    }else{\n",
    "        window.Add(row);\n",
    "    }\n",
    "}\n",
    "destination.Append(new object[]{currentAction, window.First().Time, window.Last().Time - window.First().Time, window.Last().Weight - window.First().Weight,  window.Select(w => w.AccX).Average(), window.Select(w => w.AccY).Average(), window.Select(w => w.AccZ).Average()}, true);\n",
    "\n",
    "destination.Display();"
   ]
  },
  {
   "cell_type": "code",
   "execution_count": 8,
   "id": "c3b34273",
   "metadata": {
    "vscode": {
     "languageId": "dotnet-interactive.csharp"
    }
   },
   "outputs": [
    {
     "data": {
      "text/html": [
       "<div><div></div><div></div><div><strong>Installed Packages</strong><ul><li><span>Plotly.NET.CSharp, 0.8.0</span></li></ul></div></div>"
      ]
     },
     "metadata": {},
     "output_type": "display_data"
    }
   ],
   "source": [
    "/*#r \"nuget: Plotly.NET.Interactive\"\n",
    "#r \"nuget: Plotly.NET.CSharp\"\n",
    "using Plotly.NET.CSharp;\n",
    "\n",
    "Chart.Bar<double, string, string>(\n",
    "\n",
    "    values: new double[] { 1, 2 , 4, 34, 65},\n",
    "    Keys: new string[] { \"1\", \"2\" , \"4\", \"34\", \"65\"}\n",
    "\n",
    ")\n",
    "\n",
    ".WithTraceInfo(\"Hello from C#\", ShowLegend: true)\n",
    "\n",
    ".WithXAxisStyle<double, double, string>(Title: Plotly.NET.Title.init(\"xAxis\"))\n",
    "\n",
    ".WithYAxisStyle<double, double, string>(Title: Plotly.NET.Title.init(\"yAxis\"))\n",
    "\n",
    "Chart.Point<double, double, string>(\n",
    "\n",
    "    x: new double[] { 1, 2 },\n",
    "\n",
    "    y: new double[] { 5, 10 }\n",
    "\n",
    ")\n",
    "\n",
    ".WithTraceInfo(\"Hello from C#\", ShowLegend: true)\n",
    "\n",
    ".WithXAxisStyle<double, double, string>(Title: Plotly.NET.Title.init(\"xAxis\"))\n",
    "\n",
    ".WithYAxisStyle<double, double, string>(Title: Plotly.NET.Title.init(\"yAxis\"))*/"
   ]
  }
 ],
 "metadata": {
  "custom": {
   "cells": [],
   "metadata": {
    "kernelspec": {
     "display_name": ".NET (C#)",
     "language": "C#",
     "name": ".net-csharp"
    },
    "language_info": {
     "name": "C#"
    }
   },
   "nbformat": 4,
   "nbformat_minor": 2
  },
  "indentAmount": " ",
  "kernelspec": {
   "display_name": ".NET (C#)",
   "language": "C#",
   "name": ".net-csharp"
  },
  "language_info": {
   "file_extension": ".cs",
   "mimetype": "text/x-csharp",
   "name": "C#",
   "pygments_lexer": "csharp",
   "version": "9.0"
  }
 },
 "nbformat": 4,
 "nbformat_minor": 5
}
